{
 "cells": [
  {
   "cell_type": "markdown",
   "metadata": {},
   "source": [
    "# CBS Batch Comparer"
   ]
  },
  {
   "cell_type": "markdown",
   "metadata": {},
   "source": [
    "Compares all files in input folders whether they contain all the values on the specified Xpath and print the differences if any"
   ]
  },
  {
   "cell_type": "code",
   "execution_count": 212,
   "metadata": {
    "collapsed": true
   },
   "outputs": [],
   "source": [
    "import os, string, codecs, time\n",
    "import xml.etree.ElementTree as ET\n",
    "from xml.etree.ElementTree import tostring"
   ]
  },
  {
   "cell_type": "code",
   "execution_count": 213,
   "metadata": {
    "collapsed": true
   },
   "outputs": [],
   "source": [
    "#output folder and file to parse\n",
    "folder = r'C:\\Test Cell\\FinComparer'\n",
    "\n",
    "#set up schema from the xml\n",
    "namespaces = {'fi':'http://creditinfo.com/schemas/CB5/Latvia/financialstatements'}\n",
    "Xpath = './/fi:EntityCode'"
   ]
  },
  {
   "cell_type": "code",
   "execution_count": 214,
   "metadata": {
    "collapsed": true
   },
   "outputs": [],
   "source": [
    "import os, string, codecs, time\n",
    "import xml.etree.ElementTree as ET\n",
    "from xml.etree.ElementTree import tostring"
   ]
  },
  {
   "cell_type": "code",
   "execution_count": 215,
   "metadata": {
    "collapsed": true
   },
   "outputs": [],
   "source": [
    "import os\n",
    "def allFilesInFolder(fodler, extention):       \n",
    "    files = []\n",
    "    for file in os.listdir(fodler):\n",
    "        if file.endswith(extention):\n",
    "            files.append(os.path.join(fodler, file))\n",
    "    return files"
   ]
  },
  {
   "cell_type": "code",
   "execution_count": 216,
   "metadata": {
    "collapsed": true
   },
   "outputs": [],
   "source": [
    "def getAllEntityCodes(batch, namespaces):\n",
    " entityCodes = []\n",
    " for entityCode in batch.findall(Xpath,namespaces):\n",
    "    if entityCode is None:\n",
    "        entityCode = 'None'\n",
    "    else:\n",
    "        entityCode = entityCode.text\n",
    "    entityCodes.append(entityCode)\n",
    " return entityCodes"
   ]
  },
  {
   "cell_type": "code",
   "execution_count": 217,
   "metadata": {
    "collapsed": true
   },
   "outputs": [],
   "source": [
    "entityCodes = []\n",
    "for file in allFilesInFolder(folder,'.xml'): \n",
    "    tree = ET.parse(file)\n",
    "    batch = tree.getroot()\n",
    "    entityCodes.append((file,getAllEntityCodes(batch,namespaces)))"
   ]
  },
  {
   "cell_type": "code",
   "execution_count": 227,
   "metadata": {},
   "outputs": [
    {
     "name": "stdout",
     "output_type": "stream",
     "text": [
      "Missing in FinancialStatements.xml compared to FinancialStatements_1.xml:\n",
      "{'S40103370174-01012014-31122014', 'S40103722873-21102013-31122013', 'S50103595631-01012014-31122014'}\n",
      "\n",
      "\n",
      "FinancialStatements.xml and FinancialStatements_2.xml have the same entityCodes.\n",
      "\n",
      "\n",
      "Missing in FinancialStatements_1.xml compared to FinancialStatements.xml:\n",
      "{'S40003474109-01072015-30062016', 'S40103366662-01012015-31122015', 'S40103369616-01012015-31122015', 'C40003474109-01072015-30062016', 'S40103366662-01012014-31122014', 'S40103679284-01012014-31122014', 'S40103679284-01012015-31122015', 'S44103094551-29072014-31122015', 'S40003477232-01012015-31122015', 'S40103679284-07062013-31122013', 'S40103750449-01012015-31122015'}\n",
      "\n",
      "\n",
      "Missing in FinancialStatements_1.xml compared to FinancialStatements_2.xml:\n",
      "{'S40003474109-01072015-30062016', 'S40103366662-01012015-31122015', 'S40103369616-01012015-31122015', 'C40003474109-01072015-30062016', 'S40103366662-01012014-31122014', 'S40103679284-01012014-31122014', 'S40103679284-01012015-31122015', 'S44103094551-29072014-31122015', 'S40003477232-01012015-31122015', 'S40103679284-07062013-31122013', 'S40103750449-01012015-31122015'}\n",
      "\n",
      "\n",
      "FinancialStatements_2.xml and FinancialStatements.xml have the same entityCodes.\n",
      "\n",
      "\n",
      "Missing in FinancialStatements_2.xml compared to FinancialStatements_1.xml:\n",
      "{'S40103370174-01012014-31122014', 'S40103722873-21102013-31122013', 'S50103595631-01012014-31122014'}\n",
      "\n",
      "\n"
     ]
    }
   ],
   "source": [
    "from itertools import permutations #using permutation to have both combination of file1 vs file2 and file2 vs file1\n",
    "import ntpath\n",
    "\n",
    "for a,b in permutations(range(len(entityCodes)),2):\n",
    "    filea = ntpath.basename(entityCodes[a][0])\n",
    "    fileb = ntpath.basename(entityCodes[b][0])\n",
    "    if(len(set(entityCodes[b][1])-set(entityCodes[a][1]))>0):\n",
    "        print(f'Missing in {filea} compared to {fileb}:')\n",
    "        print(set(entityCodes[b][1])-set(entityCodes[a][1]))\n",
    "    else:\n",
    "        print(f'{filea} and {fileb} have the same entityCodes.')\n",
    "    \n",
    "    print('\\n')"
   ]
  }
 ],
 "metadata": {
  "kernelspec": {
   "display_name": "Python 3",
   "language": "python",
   "name": "python3"
  },
  "language_info": {
   "codemirror_mode": {
    "name": "ipython",
    "version": 3
   },
   "file_extension": ".py",
   "mimetype": "text/x-python",
   "name": "python",
   "nbconvert_exporter": "python",
   "pygments_lexer": "ipython3",
   "version": "3.6.1"
  }
 },
 "nbformat": 4,
 "nbformat_minor": 2
}
